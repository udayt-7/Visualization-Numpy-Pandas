{
 "cells": [
  {
   "cell_type": "code",
   "execution_count": 1,
   "metadata": {},
   "outputs": [],
   "source": [
    "# Trains\n",
    "# 1.\tList all train names which terminates at  “ BANGALORE CANT”\n",
    "# 2.\tList all the Source stations which has train facility to “ BANGALORE CANT”\n",
    "# 3.\tGiven a train number, list all the station names that train passes through before reaching destination station.\n",
    "# 4.\tGive the train details (Train number, source and destination station , distance in KMs) which covers longest distance.\n",
    "# 5.\tGive the train details (Train number, source and destination station , distance in KMs) which takes longer time to reach destination.\n",
    "# 6.\tList the station which has more number of train connectivity.\n",
    "# Visualization:\n",
    "# Draw bar chart to show the total number of trains starting from Mumbai, Bangalore, Delhi, Chennai and Kolkota. Station codes of Mumbai are ( CSTM, BCT, LTT, BDTS, PNVL), Bangalore (SBC, YPR, BNC), Delhi (DEC, DEE, DLI, DAZ, DSA, NDLS, DSJ, DKJ), Chennai (MPK, MS, MSB, MSC, MAS) and Kolkota is (KOAA, CP, HWH, SDAH)\n",
    "# Draw pie chart for Delhi and Bangalore showing %age of trains handled ( Originating and Destination) by each stations in the given city.\n"
   ]
  },
  {
   "cell_type": "code",
   "execution_count": 2,
   "metadata": {},
   "outputs": [],
   "source": [
    "\n",
    "import numpy as np\n",
    "import pandas as pd\n",
    "import matplotlib.pyplot as plt"
   ]
  },
  {
   "cell_type": "code",
   "execution_count": 3,
   "metadata": {},
   "outputs": [
    {
     "data": {
      "text/html": [
       "<div>\n",
       "<style scoped>\n",
       "    .dataframe tbody tr th:only-of-type {\n",
       "        vertical-align: middle;\n",
       "    }\n",
       "\n",
       "    .dataframe tbody tr th {\n",
       "        vertical-align: top;\n",
       "    }\n",
       "\n",
       "    .dataframe thead th {\n",
       "        text-align: right;\n",
       "    }\n",
       "</style>\n",
       "<table border=\"1\" class=\"dataframe\">\n",
       "  <thead>\n",
       "    <tr style=\"text-align: right;\">\n",
       "      <th></th>\n",
       "      <th>Train No.</th>\n",
       "      <th>train Name</th>\n",
       "      <th>islno</th>\n",
       "      <th>station Code</th>\n",
       "      <th>Station Name</th>\n",
       "      <th>Arrival time</th>\n",
       "      <th>Departure time</th>\n",
       "      <th>Distance</th>\n",
       "      <th>Source Station Code</th>\n",
       "      <th>source Station Name</th>\n",
       "      <th>Destination station Code</th>\n",
       "      <th>Destination Station Name</th>\n",
       "    </tr>\n",
       "  </thead>\n",
       "  <tbody>\n",
       "    <tr>\n",
       "      <th>0</th>\n",
       "      <td>'00851'</td>\n",
       "      <td>BNC SUVIDHA SPL</td>\n",
       "      <td>1</td>\n",
       "      <td>BBS</td>\n",
       "      <td>BHUBANESWAR</td>\n",
       "      <td>'00:00:00'</td>\n",
       "      <td>'22:50:00'</td>\n",
       "      <td>0</td>\n",
       "      <td>BBS</td>\n",
       "      <td>BHUBANESWAR</td>\n",
       "      <td>BNC</td>\n",
       "      <td>BANGALORE CANT</td>\n",
       "    </tr>\n",
       "    <tr>\n",
       "      <th>1</th>\n",
       "      <td>'00851'</td>\n",
       "      <td>BNC SUVIDHA SPL</td>\n",
       "      <td>2</td>\n",
       "      <td>BAM</td>\n",
       "      <td>BRAHMAPUR</td>\n",
       "      <td>'01:10:00'</td>\n",
       "      <td>'01:12:00'</td>\n",
       "      <td>166</td>\n",
       "      <td>BBS</td>\n",
       "      <td>BHUBANESWAR</td>\n",
       "      <td>BNC</td>\n",
       "      <td>BANGALORE CANT</td>\n",
       "    </tr>\n",
       "    <tr>\n",
       "      <th>2</th>\n",
       "      <td>'00851'</td>\n",
       "      <td>BNC SUVIDHA SPL</td>\n",
       "      <td>3</td>\n",
       "      <td>VSKP</td>\n",
       "      <td>VISAKHAPATNAM</td>\n",
       "      <td>'05:10:00'</td>\n",
       "      <td>'05:30:00'</td>\n",
       "      <td>443</td>\n",
       "      <td>BBS</td>\n",
       "      <td>BHUBANESWAR</td>\n",
       "      <td>BNC</td>\n",
       "      <td>BANGALORE CANT</td>\n",
       "    </tr>\n",
       "    <tr>\n",
       "      <th>3</th>\n",
       "      <td>'00851'</td>\n",
       "      <td>BNC SUVIDHA SPL</td>\n",
       "      <td>4</td>\n",
       "      <td>BZA</td>\n",
       "      <td>VIJAYAWADA JN</td>\n",
       "      <td>'11:10:00'</td>\n",
       "      <td>'11:20:00'</td>\n",
       "      <td>793</td>\n",
       "      <td>BBS</td>\n",
       "      <td>BHUBANESWAR</td>\n",
       "      <td>BNC</td>\n",
       "      <td>BANGALORE CANT</td>\n",
       "    </tr>\n",
       "    <tr>\n",
       "      <th>4</th>\n",
       "      <td>'00851'</td>\n",
       "      <td>BNC SUVIDHA SPL</td>\n",
       "      <td>5</td>\n",
       "      <td>RU</td>\n",
       "      <td>RENIGUNTA JN</td>\n",
       "      <td>'16:42:00'</td>\n",
       "      <td>'16:52:00'</td>\n",
       "      <td>1169</td>\n",
       "      <td>BBS</td>\n",
       "      <td>BHUBANESWAR</td>\n",
       "      <td>BNC</td>\n",
       "      <td>BANGALORE CANT</td>\n",
       "    </tr>\n",
       "  </tbody>\n",
       "</table>\n",
       "</div>"
      ],
      "text/plain": [
       "  Train No.       train Name  islno station Code     Station Name  \\\n",
       "0   '00851'  BNC SUVIDHA SPL      1         BBS   BHUBANESWAR       \n",
       "1   '00851'  BNC SUVIDHA SPL      2         BAM   BRAHMAPUR         \n",
       "2   '00851'  BNC SUVIDHA SPL      3         VSKP  VISAKHAPATNAM     \n",
       "3   '00851'  BNC SUVIDHA SPL      4         BZA   VIJAYAWADA JN     \n",
       "4   '00851'  BNC SUVIDHA SPL      5         RU    RENIGUNTA JN      \n",
       "\n",
       "  Arrival time Departure time  Distance Source Station Code  \\\n",
       "0   '00:00:00'     '22:50:00'         0                BBS    \n",
       "1   '01:10:00'     '01:12:00'       166                BBS    \n",
       "2   '05:10:00'     '05:30:00'       443                BBS    \n",
       "3   '11:10:00'     '11:20:00'       793                BBS    \n",
       "4   '16:42:00'     '16:52:00'      1169                BBS    \n",
       "\n",
       "  source Station Name Destination station Code Destination Station Name  \n",
       "0     BHUBANESWAR                         BNC           BANGALORE CANT   \n",
       "1     BHUBANESWAR                         BNC           BANGALORE CANT   \n",
       "2     BHUBANESWAR                         BNC           BANGALORE CANT   \n",
       "3     BHUBANESWAR                         BNC           BANGALORE CANT   \n",
       "4     BHUBANESWAR                         BNC           BANGALORE CANT   "
      ]
     },
     "execution_count": 3,
     "metadata": {},
     "output_type": "execute_result"
    }
   ],
   "source": [
    "df = pd.read_csv('trains.csv')\n",
    "df.head(5)"
   ]
  },
  {
   "cell_type": "code",
   "execution_count": 4,
   "metadata": {},
   "outputs": [
    {
     "data": {
      "text/plain": [
       "array(['BNC SUVIDHA SPL', 'KYQ BNC SUVIDHA', 'BZA BNC PASS   '],\n",
       "      dtype=object)"
      ]
     },
     "execution_count": 4,
     "metadata": {},
     "output_type": "execute_result"
    }
   ],
   "source": [
    "\n",
    "\n",
    "#List all train names which terminates at  “ BANGALORE CANT”\n",
    "\n",
    "\n",
    "#bc = bc.loc['BANGALORE CANT ']\n",
    "#bc = df[df['Destination Station Name'] == 'BANGALORE CANT ']\n",
    "# bc = bc.groupby('Destination Station Name').agg({'Destination Station Name':'unique'})\n",
    "\n",
    "bc = df[df['Destination Station Name'] == 'BANGALORE CANT ']\n",
    "bc = bc['train Name']\n",
    "bc.unique()"
   ]
  },
  {
   "cell_type": "code",
   "execution_count": 5,
   "metadata": {},
   "outputs": [
    {
     "data": {
      "text/plain": [
       "array(['BHUBANESWAR    ', 'KAMAKHYA       ', 'VIJAYAWADA JN  '],\n",
       "      dtype=object)"
      ]
     },
     "execution_count": 5,
     "metadata": {},
     "output_type": "execute_result"
    }
   ],
   "source": [
    "#List all the Source stations which has train facility to “ BANGALORE CANT”\n",
    "\n",
    "bs = df['source Station Name'][df['Destination Station Name'] == 'BANGALORE CANT '].unique()\n",
    "\n",
    "bs"
   ]
  },
  {
   "cell_type": "code",
   "execution_count": 6,
   "metadata": {},
   "outputs": [
    {
     "data": {
      "text/plain": [
       "[array(['BHUBANESWAR    ', 'BRAHMAPUR      ', 'VISAKHAPATNAM  ',\n",
       "        'VIJAYAWADA JN  ', 'RENIGUNTA JN   ', 'JOLARPETTAI    ',\n",
       "        'BANGALORE CANT '], dtype=object)]"
      ]
     },
     "execution_count": 6,
     "metadata": {},
     "output_type": "execute_result"
    }
   ],
   "source": [
    "#Given a train number, list all the station names that train passes through before reaching destination station.\n",
    "\n",
    "t_no = df.groupby(['Train No.']).agg({'Station Name':'unique'})\n",
    "t_no = t_no.reset_index()\n",
    "# t_no['\\'00851\\'']\n",
    "t_no = t_no[t_no['Train No.'] == '\\'00851\\'']\n",
    "list(t_no['Station Name'])\n"
   ]
  },
  {
   "cell_type": "code",
   "execution_count": 7,
   "metadata": {},
   "outputs": [
    {
     "data": {
      "text/html": [
       "<div>\n",
       "<style scoped>\n",
       "    .dataframe tbody tr th:only-of-type {\n",
       "        vertical-align: middle;\n",
       "    }\n",
       "\n",
       "    .dataframe tbody tr th {\n",
       "        vertical-align: top;\n",
       "    }\n",
       "\n",
       "    .dataframe thead th {\n",
       "        text-align: right;\n",
       "    }\n",
       "</style>\n",
       "<table border=\"1\" class=\"dataframe\">\n",
       "  <thead>\n",
       "    <tr style=\"text-align: right;\">\n",
       "      <th></th>\n",
       "      <th>Train No.</th>\n",
       "      <th>source Station Name</th>\n",
       "      <th>Destination Station Name</th>\n",
       "      <th>Distance</th>\n",
       "    </tr>\n",
       "  </thead>\n",
       "  <tbody>\n",
       "    <tr>\n",
       "      <th>35519</th>\n",
       "      <td>'15906'</td>\n",
       "      <td>DIBRUGARH</td>\n",
       "      <td>KANYAKUMARI</td>\n",
       "      <td>4273</td>\n",
       "    </tr>\n",
       "  </tbody>\n",
       "</table>\n",
       "</div>"
      ],
      "text/plain": [
       "      Train No. source Station Name Destination Station Name  Distance\n",
       "35519   '15906'     DIBRUGARH                KANYAKUMARI          4273"
      ]
     },
     "execution_count": 7,
     "metadata": {},
     "output_type": "execute_result"
    }
   ],
   "source": [
    "#Give the train details (Train number, source and destination station , distance in KMs) which covers longest distance\n",
    "\n",
    "#MAX\n",
    "lt =df[['Train No.','source Station Name','Destination Station Name','Distance']].sort_values('Distance',ascending = False).head(1)\n",
    "\n",
    "lt\n",
    "\n",
    "#SUM\n",
    "# lt =df.groupby(['Train No.','source Station Name','Destination Station Name']).agg({'Distance':'sum'})\n",
    "# lt = lt.reset_index()\n",
    "# lt.sort_values('Distance', ascending = False)\n",
    "# lt.head(1)\n"
   ]
  },
  {
   "cell_type": "code",
   "execution_count": 8,
   "metadata": {},
   "outputs": [],
   "source": [
    "#Give the train details (Train number, source and destination station , distance in KMs) \n",
    "#which takes longer time to reach destination.\n",
    "\n",
    "\n"
   ]
  },
  {
   "cell_type": "code",
   "execution_count": 9,
   "metadata": {},
   "outputs": [
    {
     "data": {
      "text/html": [
       "<div>\n",
       "<style scoped>\n",
       "    .dataframe tbody tr th:only-of-type {\n",
       "        vertical-align: middle;\n",
       "    }\n",
       "\n",
       "    .dataframe tbody tr th {\n",
       "        vertical-align: top;\n",
       "    }\n",
       "\n",
       "    .dataframe thead th {\n",
       "        text-align: right;\n",
       "    }\n",
       "</style>\n",
       "<table border=\"1\" class=\"dataframe\">\n",
       "  <thead>\n",
       "    <tr style=\"text-align: right;\">\n",
       "      <th></th>\n",
       "      <th>total</th>\n",
       "    </tr>\n",
       "  </thead>\n",
       "  <tbody>\n",
       "    <tr>\n",
       "      <th>VIJAYAWADA JN</th>\n",
       "      <td>313</td>\n",
       "    </tr>\n",
       "  </tbody>\n",
       "</table>\n",
       "</div>"
      ],
      "text/plain": [
       "                 total\n",
       "VIJAYAWADA JN      313"
      ]
     },
     "execution_count": 9,
     "metadata": {},
     "output_type": "execute_result"
    }
   ],
   "source": [
    "#List the station which has more number of train connectivity.\n",
    "df1 = df['Station Name'].value_counts()\n",
    "df1 = df1.to_frame(name = 'total')\n",
    "\n",
    "df1[df1['total']==df1['total'].max()]\n",
    "\n",
    "# df1 = df['source Station Name  '].groupby('Station Name').agg({'Station Name':'count'})\n",
    "# #df1 = df1.reset_index()\n",
    "# #df1.sort_values('Station Name', ascending = False)\n",
    "# df1"
   ]
  },
  {
   "cell_type": "code",
   "execution_count": 10,
   "metadata": {},
   "outputs": [
    {
     "data": {
      "text/html": [
       "<div>\n",
       "<style scoped>\n",
       "    .dataframe tbody tr th:only-of-type {\n",
       "        vertical-align: middle;\n",
       "    }\n",
       "\n",
       "    .dataframe tbody tr th {\n",
       "        vertical-align: top;\n",
       "    }\n",
       "\n",
       "    .dataframe thead th {\n",
       "        text-align: right;\n",
       "    }\n",
       "</style>\n",
       "<table border=\"1\" class=\"dataframe\">\n",
       "  <thead>\n",
       "    <tr style=\"text-align: right;\">\n",
       "      <th></th>\n",
       "      <th>Train_city</th>\n",
       "      <th>Train No.</th>\n",
       "    </tr>\n",
       "  </thead>\n",
       "  <tbody>\n",
       "    <tr>\n",
       "      <th>0</th>\n",
       "      <td>Bangalore</td>\n",
       "      <td>93</td>\n",
       "    </tr>\n",
       "    <tr>\n",
       "      <th>1</th>\n",
       "      <td>Chennai</td>\n",
       "      <td>69</td>\n",
       "    </tr>\n",
       "    <tr>\n",
       "      <th>2</th>\n",
       "      <td>Delhi</td>\n",
       "      <td>56</td>\n",
       "    </tr>\n",
       "    <tr>\n",
       "      <th>3</th>\n",
       "      <td>Kolkata</td>\n",
       "      <td>102</td>\n",
       "    </tr>\n",
       "    <tr>\n",
       "      <th>4</th>\n",
       "      <td>Mumbai</td>\n",
       "      <td>84</td>\n",
       "    </tr>\n",
       "  </tbody>\n",
       "</table>\n",
       "</div>"
      ],
      "text/plain": [
       "  Train_city  Train No.\n",
       "0  Bangalore         93\n",
       "1    Chennai         69\n",
       "2      Delhi         56\n",
       "3    Kolkata        102\n",
       "4     Mumbai         84"
      ]
     },
     "execution_count": 10,
     "metadata": {},
     "output_type": "execute_result"
    }
   ],
   "source": [
    "# Draw bar chart to show the total number of trains starting from Mumbai, Bangalore, Delhi, Chennai and Kolkota. \n",
    "# Station codes of Mumbai are ( CSTM, BCT, LTT, BDTS, PNVL), \n",
    "# Bangalore (SBC, YPR, BNC), \n",
    "# Delhi (DEC, DEE, DLI, DAZ, DSA, NDLS, DSJ, DKJ), \n",
    "# Chennai (MPK, MS, MSB, MSC, MAS) and \n",
    "# Kolkata is ('KOAA ':'Kolkata', 'CP ':'Kolkata', 'HWH '::'Kolkata', 'SDAH ':'Kolkata')\n",
    "\n",
    "\n",
    "list_city = {'CSTM ':'Mumbai','BCT ':'Mumbai','LTT ':'Mumbai','BDTS ':'Mumbai','PNVL ':'Mumbai','SBC ':'Bangalore','YPR ':'Bangalore','BNC ':'Bangalore','DEC ':'Delhi', 'DEE ':'Delhi','DLI ':'Delhi', 'DAZ ':'Delhi', 'DSA ':'Delhi', 'NDLS ':'Delhi', 'DSJ ':'Delhi', 'DKJ ':'Delhi','MPK ':'Chennai', 'MS ':'Chennai', 'MSB ':'Chennai', 'MSC ':'Chennai', 'MAS ':'Chennai','KOAA ':'Kolkata', 'CP ':'Kolkata', 'HWH ':'Kolkata', 'SDAH ':'Kolkata'}\n",
    "df[\"Train_city\"]=df[\"Source Station Code\"].map(list_city)\n",
    "\n",
    "city = df.dropna()\n",
    "city5 = city.groupby(['Train_city']).agg({'Train No.':'nunique'})\n",
    "city5 = city5.reset_index()\n",
    "#city[city['Train_city']=='Mumbai']\n",
    "city5"
   ]
  },
  {
   "cell_type": "code",
   "execution_count": 11,
   "metadata": {},
   "outputs": [
    {
     "data": {
      "text/plain": [
       "<matplotlib.axes._subplots.AxesSubplot at 0x145f6eb3278>"
      ]
     },
     "execution_count": 11,
     "metadata": {},
     "output_type": "execute_result"
    },
    {
     "data": {
      "image/png": "[encoded data removed]",
      "text/plain": [
       "<Figure size 432x288 with 1 Axes>"
      ]
     },
     "metadata": {
      "needs_background": "light"
     },
     "output_type": "display_data"
    }
   ],
   "source": [
    "\n",
    "# names = list(city5.Train_city)\n",
    "# data = list(city5['Train No.'])\n",
    "# colors = ['red','blue','green','yellow','orange']\n",
    "# x_count = np.arange(len(data))\n",
    "\n",
    "#df.set_index('Train_city')[['Train No.']].plot.bar()\n",
    "\n",
    "\n",
    "city5.plot.bar(x = 'Train_city', y = ['Train No.'])\n"
   ]
  },
  {
   "cell_type": "code",
   "execution_count": 12,
   "metadata": {},
   "outputs": [],
   "source": [
    "# Draw pie chart for Delhi and Bangalore showing %age of trains handled ( Originating and Destination) by each stations \n",
    "#in the given city.\n"
   ]
  },
  {
   "cell_type": "code",
   "execution_count": null,
   "metadata": {},
   "outputs": [],
   "source": []
  }
 ],
 "metadata": {
  "kernelspec": {
   "display_name": "Python 3",
   "language": "python",
   "name": "python3"
  },
  "language_info": {
   "codemirror_mode": {
    "name": "ipython",
    "version": 3
   },
   "file_extension": ".py",
   "mimetype": "text/x-python",
   "name": "python",
   "nbconvert_exporter": "python",
   "pygments_lexer": "ipython3",
   "version": "3.7.0"
  }
 },
 "nbformat": 4,
 "nbformat_minor": 2
}
